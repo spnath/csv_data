{
 "cells": [
  {
   "cell_type": "code",
   "execution_count": 5,
   "id": "957a5268",
   "metadata": {},
   "outputs": [
    {
     "name": "stdout",
     "output_type": "stream",
     "text": [
      "Subhendu\n",
      "100\n",
      "6\n"
     ]
    }
   ],
   "source": [
    "class DemoClass:\n",
    "    a=10\n",
    "    def __init__(self):\n",
    "        print(\"Subhendu\")\n",
    "    def showvalue(self):\n",
    "        self.c=self.a * self.a\n",
    "        print(self.c)\n",
    "    def showvalue1(self,a,b):\n",
    "        print(a+b)\n",
    "    \n",
    "    \n",
    "obj=DemoClass()\n",
    "obj.showvalue()\n",
    "obj.showvalue1(2,4)\n",
    "        "
   ]
  },
  {
   "cell_type": "code",
   "execution_count": null,
   "id": "8e9c872e",
   "metadata": {},
   "outputs": [],
   "source": []
  }
 ],
 "metadata": {
  "kernelspec": {
   "display_name": "Python 3 (ipykernel)",
   "language": "python",
   "name": "python3"
  },
  "language_info": {
   "codemirror_mode": {
    "name": "ipython",
    "version": 3
   },
   "file_extension": ".py",
   "mimetype": "text/x-python",
   "name": "python",
   "nbconvert_exporter": "python",
   "pygments_lexer": "ipython3",
   "version": "3.10.9"
  }
 },
 "nbformat": 4,
 "nbformat_minor": 5
}
